{
 "cells": [
  {
   "cell_type": "code",
   "execution_count": 1,
   "metadata": {},
   "outputs": [],
   "source": [
    "import os\n",
    "import sqlite3"
   ]
  },
  {
   "cell_type": "code",
   "execution_count": 60,
   "metadata": {},
   "outputs": [],
   "source": [
    "def print_images_in_folder(folder_path):\n",
    "    # Get the list of files and folders in the specified folder path\n",
    "    files = os.listdir(folder_path)\n",
    "    img = []\n",
    "    \n",
    "    # Loop through each file/folder\n",
    "    for file in files:\n",
    "        # Get the full path of the file/folder\n",
    "        file_path = os.path.join(folder_path, file)\n",
    "        \n",
    "        # Check if it is a file\n",
    "        if os.path.isfile(file_path):\n",
    "            # Print the file name\n",
    "            img.append(file)\n",
    "\n",
    "    return img\n",
    "\n",
    "# Provide the path to the parent folder containing the image folders\n",
    "parent_folder_path = \"./categories/\"\n",
    "images = {}\n",
    "\n",
    "# Loop through each folder in the parent folder\n",
    "for folder_name in os.listdir(parent_folder_path):\n",
    "    # Construct the full path of the current folder\n",
    "    folder_path = os.path.join(parent_folder_path, folder_name)\n",
    "    \n",
    "    # Check if it is a directory\n",
    "    if os.path.isdir(folder_path):\n",
    "        # Print the folder name\n",
    "        images[folder_name] = print_images_in_folder(folder_path)"
   ]
  },
  {
   "cell_type": "code",
   "execution_count": 61,
   "metadata": {},
   "outputs": [],
   "source": [
    "folders = list(images.keys())"
   ]
  },
  {
   "attachments": {},
   "cell_type": "markdown",
   "metadata": {},
   "source": [
    "# SQLite"
   ]
  },
  {
   "cell_type": "code",
   "execution_count": 77,
   "metadata": {},
   "outputs": [],
   "source": [
    "# creating a connection to sqlite database\n",
    "connection = sqlite3.connect(\"database.db\")"
   ]
  },
  {
   "cell_type": "code",
   "execution_count": 78,
   "metadata": {},
   "outputs": [],
   "source": [
    "def insert_into_db(element: str, key: str, cur):\n",
    "    label = element.split(\".\")[0]\n",
    "    category = int (key)\n",
    "\n",
    "    query = f\"\"\"\n",
    "      INSERT INTO sm_data (sm_label, sm_category, sm_icon)\n",
    "      VALUES (\"{label}\", {category}, \"{element}\")\n",
    "    \"\"\"\n",
    "    \n",
    "    cur.execute(query)\n"
   ]
  },
  {
   "cell_type": "code",
   "execution_count": 79,
   "metadata": {},
   "outputs": [
    {
     "name": "stdout",
     "output_type": "stream",
     "text": [
      "00  : \n",
      "------  Aim.png  -ok- \n",
      "------  Airbnb.png  -ok- \n",
      "------  Airtable.png  -ok- \n",
      "------  Android.png  -ok- \n",
      "------  Apple.png  -ok- \n",
      "------  AppStore.png  -ok- \n",
      "------  Asana.png  -ok- \n",
      "------  Atlassian.png  -ok- \n",
      "------  Basecamp.png  -ok- \n",
      "------  Binance.png  -ok- \n",
      "------  Bitcoin.png  -ok- \n",
      "------  Bittorrent.png  -ok- \n",
      "------  Buffer.png  -ok- \n",
      "------  BuzzFeed.png  -ok- \n",
      "------  Coinbase.png  -ok- \n",
      "------  Confluence.png  -ok- \n",
      "------  Coub.png  -ok- \n",
      "------  Creativemarket.png  -ok- \n",
      "------  Default.png  -ok- \n",
      "------  Delicious.png  -ok- \n",
      "------  Digg.png  -ok- \n",
      "------  Drupal.png  -ok- \n",
      "------  Edge.png  -ok- \n",
      "------  Ethereum.png  -ok- \n",
      "------  Evernote.png  -ok- \n",
      "------  ExpressVPN.png  -ok- \n",
      "------  Fancy.png  -ok- \n",
      "------  Firefox.png  -ok- \n",
      "------  Foursquare.png  -ok- \n",
      "------  Gumroad.png  -ok- \n",
      "------  Hola.png  -ok- \n",
      "------  Iconfinder.png  -ok- \n",
      "------  Iconjar.png  -ok- \n",
      "------  Intercom.png  -ok- \n",
      "------  Jira.png  -ok- \n",
      "------  Kaixin001.png  -ok- \n",
      "------  MailChimp.png  -ok- \n",
      "------  Marvel.png  -ok- \n",
      "------  MetaMask.png  -ok- \n",
      "------  Mi.png  -ok- \n",
      "------  Microsoft.png  -ok- \n",
      "------  Miliao.png  -ok- \n",
      "------  NordVPN.png  -ok- \n",
      "------  Notion.png  -ok- \n",
      "------  OK.png  -ok- \n",
      "------  Opera.png  -ok- \n",
      "------  Periscope.png  -ok- \n",
      "------  ProductHunt.png  -ok- \n",
      "------  QQ.png  -ok- \n",
      "------  Renren.png  -ok- \n",
      "------  Safari.png  -ok- \n",
      "------  Shopify.png  -ok- \n",
      "------  Shutterstock.png  -ok- \n",
      "------  Sketch.png  -ok- \n",
      "------  Skrill.png  -ok- \n",
      "------  Strava.png  -ok- \n",
      "------  StumbleUpon.png  -ok- \n",
      "------  Taobao.png  -ok- \n",
      "------  TeamViewer.png  -ok- \n",
      "------  Tether.png  -ok- \n",
      "------  Tilda.png  -ok- \n",
      "------  Tor.png  -ok- \n",
      "------  Treehouse.png  -ok- \n",
      "------  Trello.png  -ok- \n",
      "------  Tripadvisor.png  -ok- \n",
      "------  Tux.png  -ok- \n",
      "------  Ubuntu.png  -ok- \n",
      "------  ui8.png  -ok- \n",
      "------  Uplabs.png  -ok- \n",
      "------  Utorrent.png  -ok- \n",
      "------  Viadeo.png  -ok- \n",
      "------  Vine.png  -ok- \n",
      "------  Wickr.png  -ok- \n",
      "------  Wikipedia.png  -ok- \n",
      "------  Wire.png  -ok- \n",
      "------  Yelp.png  -ok- \n",
      "------  Zendesk.png  -ok- \n",
      "------  Zerpply.png  -ok- \n",
      "01  : \n",
      "------  Lastfm.png  -ok- \n",
      "------  MixCloud.png  -ok- \n",
      "------  MySpace.png  -ok- \n",
      "------  Shazam.png  -ok- \n",
      "------  Soundcloud.png  -ok- \n",
      "------  Spotify.png  -ok- \n",
      "------  Tidal.png  -ok- \n",
      "------  YoutubeMusic.png  -ok- \n",
      "02  : \n",
      "------  AdobeXD.png  -ok- \n",
      "------  Behance.png  -ok- \n",
      "------  DeviantArt.png  -ok- \n",
      "------  Dribbble.png  -ok- \n",
      "------  Figma.png  -ok- \n",
      "------  Framer.png  -ok- \n",
      "------  Giphy.png  -ok- \n",
      "------  Invision.png  -ok- \n",
      "------  Tenor.png  -ok- \n",
      "03  : \n",
      "------  AngelList.png  -ok- \n",
      "------  BuyMeACoffee.png  -ok- \n",
      "------  GofundMe.png  -ok- \n",
      "------  Kickstarter.png  -ok- \n",
      "------  Mastercard.png  -ok- \n",
      "------  OpenCollective.png  -ok- \n",
      "------  Patreon.png  -ok- \n",
      "------  Payoneer.png  -ok- \n",
      "------  PayPal.png  -ok- \n",
      "------  Visa.png  -ok- \n",
      "04  : \n",
      "------  Badoo.png  -ok- \n",
      "------  Tinder.png  -ok- \n",
      "05  : \n",
      "------  Quora.png  -ok- \n",
      "------  Reddit.png  -ok- \n",
      "06  : \n",
      "------  500px.png  -ok- \n",
      "------  Flickr.png  -ok- \n",
      "------  Imgur.png  -ok- \n",
      "------  Instagram.png  -ok- \n",
      "------  Pinterest.png  -ok- \n",
      "------  Snapchat.png  -ok- \n",
      "------  Vero.png  -ok- \n",
      "07  : \n",
      "------  Twitch.png  -ok- \n",
      "08  : \n",
      "------  Amazon.png  -ok- \n",
      "09  : \n",
      "------  Baidu.png  -ok- \n",
      "------  Bing.png  -ok- \n",
      "------  DuckDuckGo.png  -ok- \n",
      "------  Google.png  -ok- \n",
      "------  YandexBrowser.png  -ok- \n",
      "10  : \n",
      "------  AskFm.png  -ok- \n",
      "------  Discord.png  -ok- \n",
      "------  FaceTime.png  -ok- \n",
      "------  Gmail.png  -ok- \n",
      "------  Hangouts.png  -ok- \n",
      "------  KakaoTalk.png  -ok- \n",
      "------  Line.png  -ok- \n",
      "------  Mail_ru.png  -ok- \n",
      "------  Messenger.png  -ok- \n",
      "------  Signal.png  -ok- \n",
      "------  Skype.png  -ok- \n",
      "------  Slack.png  -ok- \n",
      "------  Telegram.png  -ok- \n",
      "------  Viber.png  -ok- \n",
      "------  Wechat.png  -ok- \n",
      "------  WhatsApp.png  -ok- \n",
      "------  Zoom.png  -ok- \n",
      "11  : \n",
      "------  Blogger.png  -ok- \n",
      "------  Facebook.png  -ok- \n",
      "------  LinkedIn.png  -ok- \n",
      "------  Medium.png  -ok- \n",
      "------  Pocket.png  -ok- \n",
      "------  RSS.png  -ok- \n",
      "------  Tumblr.png  -ok- \n",
      "------  Twitter.png  -ok- \n",
      "------  VK.png  -ok- \n",
      "------  Weibo.png  -ok- \n",
      "------  Wordpress.png  -ok- \n",
      "------  Yahoo.png  -ok- \n",
      "12  : \n",
      "------  Dropbox.png  -ok- \n",
      "------  Mega.png  -ok- \n",
      "------  OneDrive.png  -ok- \n",
      "------  WeTransfer.png  -ok- \n",
      "13  : \n",
      "------  Bitbucket.png  -ok- \n",
      "------  Codeopen.png  -ok- \n",
      "------  Github.png  -ok- \n",
      "------  GitLab.png  -ok- \n",
      "------  Mastodon.png  -ok- \n",
      "------  Serverfault.png  -ok- \n",
      "------  StackExchange.png  -ok- \n",
      "------  StackOverflow.png  -ok- \n",
      "------  SuperUser.png  -ok- \n",
      "14  : \n",
      "------  Dailymotion.png  -ok- \n",
      "------  IGTV.png  -ok- \n",
      "------  Netflix.png  -ok- \n",
      "------  TikTok.png  -ok- \n",
      "------  Trovo.png  -ok- \n",
      "------  Vimeo.png  -ok- \n",
      "------  Youtube.png  -ok- \n",
      "15  : \n",
      "------  Epic Games.png  -ok- \n",
      "------  Nintendo.png  -ok- \n",
      "------  Playstation.png  -ok- \n",
      "------  Steam.png  -ok- \n",
      "------  Xbox.png  -ok- \n"
     ]
    }
   ],
   "source": [
    "cur = connection.cursor()\n",
    "\n",
    "for folder in folders:\n",
    "    print(folder, \" : \")\n",
    "    for image in images[folder]:\n",
    "        print(\"------ \", image, \" -ok- \")\n",
    "        insert_into_db(image, folder, cur)\n",
    "        connection.commit()\n"
   ]
  },
  {
   "cell_type": "code",
   "execution_count": 80,
   "metadata": {},
   "outputs": [],
   "source": [
    "connection.commit()\n",
    "connection.close()"
   ]
  },
  {
   "attachments": {},
   "cell_type": "markdown",
   "metadata": {},
   "source": [
    "# REQUIRE"
   ]
  },
  {
   "cell_type": "code",
   "execution_count": 81,
   "metadata": {},
   "outputs": [],
   "source": [
    "def preprocess_string(string):\n",
    "    string = string.split(\" \");\n",
    "    string = ''.join(s.capitalize() for s in string)\n",
    "    return string"
   ]
  },
  {
   "cell_type": "code",
   "execution_count": 82,
   "metadata": {},
   "outputs": [],
   "source": [
    "file = open('index.ts', 'w')    "
   ]
  },
  {
   "cell_type": "code",
   "execution_count": 83,
   "metadata": {},
   "outputs": [],
   "source": [
    "export_statement = []\n",
    "files = []\n",
    "\n",
    "for folder in folders:\n",
    "    export_statement.append(f\"\\n/* folder {folder} */\")\n",
    "    for image in images[folder]:\n",
    "        label = image.split('.')[0]\n",
    "        label = preprocess_string(label)\n",
    "        loc = '\"./categories/' + folder + '/' + image + '\"'\n",
    "        exp = f'const {label} = require({loc})'\n",
    "        \n",
    "        export_statement.append(exp)\n",
    "        files.append(label)\n",
    "\n",
    "files = \",\".join(files)\n",
    "export_statement.append('\\nexport {' + files+ '}')"
   ]
  },
  {
   "cell_type": "code",
   "execution_count": 84,
   "metadata": {},
   "outputs": [
    {
     "data": {
      "text/plain": [
       "11418"
      ]
     },
     "execution_count": 84,
     "metadata": {},
     "output_type": "execute_result"
    }
   ],
   "source": [
    "string = \"\\n\".join(export_statement)\n",
    "file.write(string)"
   ]
  },
  {
   "cell_type": "code",
   "execution_count": 85,
   "metadata": {},
   "outputs": [],
   "source": [
    "file.close()"
   ]
  },
  {
   "attachments": {},
   "cell_type": "markdown",
   "metadata": {},
   "source": [
    "# RANDOM DATA"
   ]
  },
  {
   "cell_type": "code",
   "execution_count": 86,
   "metadata": {},
   "outputs": [],
   "source": [
    "import random"
   ]
  },
  {
   "cell_type": "code",
   "execution_count": 88,
   "metadata": {},
   "outputs": [],
   "source": [
    "base_name = \"account name \"\n",
    "base_uname = \"username_\"\n",
    "base_mail = \"mail@me.mail.\"\n",
    "base_token = \"super_secret_token_\"\n",
    "base_password = \"password\""
   ]
  },
  {
   "cell_type": "code",
   "execution_count": 116,
   "metadata": {},
   "outputs": [],
   "source": [
    "# creating a connection to sqlite database\n",
    "connection = sqlite3.connect(\"database.db\")"
   ]
  },
  {
   "cell_type": "code",
   "execution_count": 117,
   "metadata": {},
   "outputs": [],
   "source": [
    "def insertRandomData(i, cur):\n",
    "    \n",
    "    user = 1\n",
    "    name = base_name + str(i)\n",
    "    uname = base_uname + str(i)\n",
    "    mail = base_mail + str(i)\n",
    "    token = base_token + str(i)\n",
    "    password = base_password\n",
    "    sm = random.randint(1, 177)\n",
    "\n",
    "    query = f\"\"\"\n",
    "      INSERT INTO account (acc_user, acc_name, acc_uname, acc_mail, acc_token, acc_password, acc_sm)\n",
    "      VALUES ({user}, \"{name}\", \"{uname}\", \"{mail}\", \"{token}\", \"{password}\", {sm})\n",
    "    \"\"\"\n",
    "    \n",
    "    cur.execute(query)\n"
   ]
  },
  {
   "cell_type": "code",
   "execution_count": 118,
   "metadata": {},
   "outputs": [
    {
     "name": "stdout",
     "output_type": "stream",
     "text": [
      "ok  0\n",
      "ok  1\n",
      "ok  2\n",
      "ok  3\n",
      "ok  4\n",
      "ok  5\n",
      "ok  6\n",
      "ok  7\n",
      "ok  8\n",
      "ok  9\n",
      "ok  10\n",
      "ok  11\n",
      "ok  12\n",
      "ok  13\n",
      "ok  14\n",
      "ok  15\n",
      "ok  16\n",
      "ok  17\n",
      "ok  18\n",
      "ok  19\n",
      "ok  20\n",
      "ok  21\n",
      "ok  22\n",
      "ok  23\n",
      "ok  24\n",
      "ok  25\n",
      "ok  26\n",
      "ok  27\n",
      "ok  28\n",
      "ok  29\n"
     ]
    }
   ],
   "source": [
    "cur = connection.cursor()\n",
    "\n",
    "for i in range(30):\n",
    "    insertRandomData(i, cur)\n",
    "    print(\"ok \", i)\n"
   ]
  },
  {
   "cell_type": "code",
   "execution_count": 119,
   "metadata": {},
   "outputs": [],
   "source": [
    "connection.commit()\n",
    "connection.close()"
   ]
  },
  {
   "cell_type": "code",
   "execution_count": null,
   "metadata": {},
   "outputs": [],
   "source": []
  }
 ],
 "metadata": {
  "kernelspec": {
   "display_name": "Python 3",
   "language": "python",
   "name": "python3"
  },
  "language_info": {
   "codemirror_mode": {
    "name": "ipython",
    "version": 3
   },
   "file_extension": ".py",
   "mimetype": "text/x-python",
   "name": "python",
   "nbconvert_exporter": "python",
   "pygments_lexer": "ipython3",
   "version": "3.8.8"
  },
  "orig_nbformat": 4
 },
 "nbformat": 4,
 "nbformat_minor": 2
}
